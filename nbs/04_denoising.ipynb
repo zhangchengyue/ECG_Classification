{
 "cells": [
  {
   "cell_type": "markdown",
   "id": "b311cbae",
   "metadata": {},
   "source": [
    "# ECG Denoising\n",
    "\n",
    "> We believe we can produce a more robust ECG classifier by learning representations of noisy ECG signals"
   ]
  },
  {
   "cell_type": "markdown",
   "id": "4ca98540",
   "metadata": {},
   "source": []
  }
 ],
 "metadata": {
  "language_info": {
   "name": "python"
  }
 },
 "nbformat": 4,
 "nbformat_minor": 5
}
