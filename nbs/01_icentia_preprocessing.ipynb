{
 "cells": [
  {
   "cell_type": "markdown",
   "id": "8271f1fc",
   "metadata": {},
   "source": [
    "# Icentia11k Preprocessing\n",
    "\n",
    "> Preprocessing steps for Icentia11k dataset"
   ]
  },
  {
   "cell_type": "markdown",
   "id": "e4838d52",
   "metadata": {},
   "source": [
    "## Missingness"
   ]
  },
  {
   "cell_type": "markdown",
   "id": "92224581",
   "metadata": {},
   "source": [
    "## Normalization"
   ]
  },
  {
   "cell_type": "markdown",
   "id": "ac7bc804",
   "metadata": {},
   "source": [
    "## Filtering"
   ]
  },
  {
   "cell_type": "markdown",
   "id": "3b589599",
   "metadata": {},
   "source": [
    "## Smoothing"
   ]
  },
  {
   "cell_type": "markdown",
   "id": "b7159305",
   "metadata": {},
   "source": [
    "## Class Imbalance\n",
    "\n",
    "Oversampling"
   ]
  },
  {
   "cell_type": "markdown",
   "id": "ad603eb3",
   "metadata": {},
   "source": [
    "## Feature Selection"
   ]
  },
  {
   "cell_type": "markdown",
   "id": "7be3b58f",
   "metadata": {},
   "source": [
    "### Univariate"
   ]
  },
  {
   "cell_type": "markdown",
   "id": "dcf55aa6",
   "metadata": {},
   "source": [
    "### Multivariate"
   ]
  },
  {
   "cell_type": "markdown",
   "id": "830781bc",
   "metadata": {},
   "source": []
  }
 ],
 "metadata": {
  "language_info": {
   "name": "python"
  }
 },
 "nbformat": 4,
 "nbformat_minor": 5
}
