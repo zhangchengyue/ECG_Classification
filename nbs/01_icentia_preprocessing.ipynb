{
 "cells": [
  {
   "cell_type": "markdown",
   "id": "8271f1fc",
   "metadata": {},
   "source": [
    "# Icentia11k Preprocessing\n",
    "\n",
    "> Preprocessing steps for Icentia11k dataset"
   ]
  },
  {
   "cell_type": "markdown",
   "id": "e4838d52",
   "metadata": {},
   "source": [
    "## Missingness"
   ]
  },
  {
   "cell_type": "markdown",
   "id": "ad603eb3",
   "metadata": {},
   "source": [
    "## Feature Selection"
   ]
  },
  {
   "cell_type": "markdown",
   "id": "7be3b58f",
   "metadata": {},
   "source": [
    "### Univariate"
   ]
  },
  {
   "cell_type": "markdown",
   "id": "dcf55aa6",
   "metadata": {},
   "source": [
    "### Multivariate"
   ]
  },
  {
   "cell_type": "markdown",
   "id": "830781bc",
   "metadata": {},
   "source": []
  }
 ],
 "metadata": {
  "language_info": {
   "name": "python"
  }
 },
 "nbformat": 4,
 "nbformat_minor": 5
}
