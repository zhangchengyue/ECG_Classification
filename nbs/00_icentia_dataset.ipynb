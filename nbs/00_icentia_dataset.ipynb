{
 "cells": [
  {
   "cell_type": "markdown",
   "id": "9845aea3",
   "metadata": {},
   "source": [
    "# Icentia11k Dataset\n",
    "\n",
    "> About the Icentia 11k dataset (size, classes) & train/test splits "
   ]
  },
  {
   "cell_type": "code",
   "execution_count": null,
   "id": "f0cc9e5d",
   "metadata": {
    "vscode": {
     "languageId": "plaintext"
    }
   },
   "outputs": [],
   "source": [
    "import pandas as pd\n",
    "from sklearn.model_selection import StratifiedKFold"
   ]
  },
  {
   "cell_type": "markdown",
   "id": "83a0b7e6",
   "metadata": {},
   "source": [
    "## Overview of Icentia11k\n",
    "\n",
    "### Purpose\n",
    "\n",
    "Icentia11k is (as of 2019) the largest public ECG dataset of continuous raw signals containing 11 thousand patients and 2 billion labelled beats.\n",
    "The purpose of the dataset is to enable semi-supervised ECG models to be made as well as to discover unknown subtypes of arrhythmia and anomalous ECG signal events.\n",
    "\n",
    "### Collection Methods\n",
    "\n",
    "The ECG recordings were obtained using a single-lead portable ECG device ([CartioSTAT](https://www.cardiostat.com/) by [Icentia](https://www.icentia.com/)).\n",
    "Patents wore the device betwen 3 - 14 days.\n",
    "\n",
    "### Dataset Statistics\n",
    "\n",
    "The sample rate was 250 Hz. The total dataset size 271.27GB.\n",
    "\n",
    "### Patient demographics\n",
    "\n",
    "| Attribute | Characteristic |\n",
    "|--|--|\n",
    "| Age | Average $62.2 \\pm 17.4$ years of age |\n",
    "| Sex | $42.6 \\%$ male, $45.3 %$ female, $12.2 \\%$ unknown |\n",
    "\n",
    "### Privacy\n",
    "\n",
    "Patients are identified only by a random integer ID\n",
    "\n",
    "### Authors\n",
    "\n",
    "The dataset was published by Tan et al. 2019. For more information, refer to the paper [Icentia11k: An Unsupervised ECG Representation Learning Dataset for Arrhythmia Subtype Discovery](https://arxiv.org/pdf/1910.09570v1) and refer to the dataset hosted at [PhysioNet](https://physionet.org/content/icentia11k-continuous-ecg/1.0/)"
   ]
  },
  {
   "cell_type": "markdown",
   "id": "ae4a1603",
   "metadata": {},
   "source": [
    "## We Use Only the Fully-Labelled Subset\n",
    "\n",
    "The dataset conists of ECG recordings for each patient.\n",
    "Patient IDs 9,000 - 10,999 contain fully labelled recordings.\n",
    "\n",
    "> The authors originally intended data from patients 9,000 - 10,999 to be the evaluation subset for unsupervised models trained on partially labelled recordings for patient IDs <9000.\n",
    "However, for our supervised ECG classification task, there is enough data in the intended 'test' set alone to produce a substantial train/test split.\n",
    "However, this means we cannot compare our work to the baseline model performance reported in Tan et al. 2019."
   ]
  },
  {
   "cell_type": "markdown",
   "id": "9d28e7ed",
   "metadata": {},
   "source": [
    "## The Data is Hierarchical\n",
    "\n",
    "\n",
    "\n",
    "\n",
    "A recording for a given patient is not continuous; instead the authors randomly selected 50 ~70min segments for a given patient.\n",
    "\n",
    "> Note that not all patients have 50 segments of data. For example, p9894 only has 40 segments [(refer to dataset files on PhysioNet)](https://physionet.org/files/icentia11k-continuous-ecg/1.0/p09/p09894/)\n",
    "\n",
    "```shell\n",
    "p##### # <- patient ##### (9,000 to 10,999)\n",
    "    s## # <- segment ## (0 - 49)\n",
    "        p#####.atr # <- Attributes/annotations for ECG recording\n",
    "        p#####.hea # <- Header/metadata for ECG recording\n",
    "        p#####.dat # <- ECG recording data\n",
    "```\n",
    "\n",
    "A segment is really large (1,048,577 measurements per segment), so we will split a segment into a number of frames of a fixed window-size. So, the data will be hierarchical:\n",
    "\n",
    "```shell\n",
    "Patient i\n",
    "    Segment j\n",
    "        Frame k\n",
    "```\n",
    "\n",
    "\n",
    "\n",
    "### Implications for Model Building => Grouped K-Fold Cross Validation\n",
    "\n",
    "When performing cross-validation, we need to ensure that data we split frames into training and validation sets according to **patients**. This is because frames from the same segment are associated (e.g. temporally), and segments from the same patient are associated (e.g. because the same patient produces the segments).\n",
    "\n",
    "In other words, we need to perform repeated **Grouped K-fold Cross Validation**, where we group by patients.\n",
    "We can use the [GroupKFold - Scikit-Learn](https://scikit-learn.org/stable/modules/cross_validation.html#group-k-fold)"
   ]
  },
  {
   "cell_type": "markdown",
   "id": "c9d258c5",
   "metadata": {},
   "source": [
    "## Class Imbalance\n",
    "\n",
    "From Table 2 in [Tan et al. 2019](https://www.cinc.org/2021/Program/accepted/229_Preprint.pdf)\n",
    "\n",
    "Beat labels in the evaluation set\n",
    "\n",
    "| Beat labels | Count | Proportion |\n",
    "|---|---|---|\n",
    "| Normal                                | 174,249   | 0.6271 |\n",
    "| Premature Atrial Contractions         | 58,780    | 0.2115 |\n",
    "| Premature Ventricular contractions    | 44_835    | 0.1614 |\n",
    "\n",
    "Rhythm labels in the evaluation set\n",
    "\n",
    "| Rhythm Labels | Count | Proportion |\n",
    "|---|---|---|\n",
    "| NSR(Normal Sinusal Rhythm) |   261,377 | 0.941 |\n",
    "| AFib (Atrial Fibrillation) |   13,056  | 0.047 |\n",
    "| AFlutter (Atrial Flutter)  |   3,330   | 0.012 |\n",
    "\n",
    "\n",
    "### Implications for Modelling => Stratified, Group K-Fold AND/OR Oversampling\n",
    "\n",
    "[SMOTE]()\n",
    "\n",
    "[StratifiedGroupKFold - Scikit-Learn](https://scikit-learn.org/stable/modules/cross_validation.html#stratifiedgroupkfold)"
   ]
  },
  {
   "cell_type": "markdown",
   "id": "aea77c79",
   "metadata": {},
   "source": [
    "## Some Descriptive Stats\n",
    "\n",
    "Size\n",
    "\n",
    "Structure of data points\n",
    "\n",
    "Class Imbalance"
   ]
  },
  {
   "cell_type": "markdown",
   "id": "f358d234",
   "metadata": {},
   "source": [
    "## Train/Test Splits\n",
    "\n",
    "Different patient's should be in train vs test splits\n",
    "\n",
    "ECG signals from the same patient are correlated, so we shouldn't randomly shuffle segments\n",
    "\n",
    "1. Take one frame from each patient\n",
    "\n",
    "\n",
    "[Matworks: Classify ECG Signal](https://www.mathworks.com/help/signal/ug/classify-ecg-signals-using-long-short-term-memory-networks.html) - used random shuffling, because they had one 9000-sample long window of ECG signal for each patient. Bc each signal was from different patients, they were not temporally correlated."
   ]
  },
  {
   "cell_type": "markdown",
   "id": "73d6fd2a",
   "metadata": {},
   "source": [
    "## Evaluating Several Different Classifiers\n",
    "\n",
    "\n",
    "### Implications for Modelling\n",
    "\n",
    "[Calibrating a classifier - Scikit-Learn](https://scikit-learn.org/stable/modules/calibration.html#calibrating-a-classifier)"
   ]
  }
 ],
 "metadata": {
  "language_info": {
   "name": "python"
  }
 },
 "nbformat": 4,
 "nbformat_minor": 5
}
