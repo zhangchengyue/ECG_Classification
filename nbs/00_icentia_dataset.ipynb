{
 "cells": [
  {
   "cell_type": "markdown",
   "id": "9845aea3",
   "metadata": {},
   "source": [
    "# Icentia11k Dataset\n",
    "\n",
    "> About the Icentia 11k dataset (size, classes) & train/test splits "
   ]
  },
  {
   "cell_type": "code",
   "execution_count": null,
   "id": "f0cc9e5d",
   "metadata": {
    "vscode": {
     "languageId": "plaintext"
    }
   },
   "outputs": [],
   "source": [
    "import pandas as pd\n",
    "from sklearn.model_selection import StratifiedKFold "
   ]
  },
  {
   "cell_type": "markdown",
   "id": "83a0b7e6",
   "metadata": {},
   "source": [
    "## Overview of Icentia11k\n",
    "\n",
    "Purpose\n",
    "\n",
    "Authors\n",
    "\n",
    "Collection method\n",
    "\n",
    "Demographics\n",
    "\n",
    "Privacy"
   ]
  },
  {
   "cell_type": "markdown",
   "id": "9d28e7ed",
   "metadata": {},
   "source": [
    "## Download the Dataset"
   ]
  },
  {
   "cell_type": "markdown",
   "id": "aea77c79",
   "metadata": {},
   "source": [
    "## Some Descriptive Stats\n",
    "\n",
    "Size\n",
    "\n",
    "Structure of data points\n",
    "\n",
    "Class Imbalance"
   ]
  },
  {
   "cell_type": "markdown",
   "id": "f358d234",
   "metadata": {},
   "source": [
    "## Train/Test Splits"
   ]
  },
  {
   "cell_type": "markdown",
   "id": "73d6fd2a",
   "metadata": {},
   "source": []
  }
 ],
 "metadata": {
  "language_info": {
   "name": "python"
  }
 },
 "nbformat": 4,
 "nbformat_minor": 5
}
