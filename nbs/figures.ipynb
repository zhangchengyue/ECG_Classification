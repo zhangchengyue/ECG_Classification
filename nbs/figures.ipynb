{
 "cells": [
  {
   "cell_type": "markdown",
   "id": "a997c5c8",
   "metadata": {},
   "source": [
    "# Figures\n",
    "\n",
    "> Code to reproduce all figures for the project report"
   ]
  },
  {
   "cell_type": "markdown",
   "id": "25d2833c",
   "metadata": {},
   "source": [
    "## Distribution of Labels in Train and Test Set\n",
    "\n",
    "Figure showing distribution of normal vs abrnomal beats & normal vs abnormal rhythms"
   ]
  },
  {
   "cell_type": "markdown",
   "id": "07c97f7e",
   "metadata": {},
   "source": [
    "## Example Outputs from Various Denoising Algorithm\n",
    "\n",
    "Figure with subgrid showing Original vs Noisy vs Denoised for CDAE, U-Net denoiser, and Wavlet Transform denoisers"
   ]
  },
  {
   "cell_type": "markdown",
   "id": "dc57c26b",
   "metadata": {},
   "source": [
    "## Receiver Operator Characteristic Curve\n",
    "\n",
    "True positive vs False positive for all possible probability cutoffs for beat classification & rhythm classification\n",
    "\n",
    "Also measure Area Under Curve"
   ]
  },
  {
   "cell_type": "markdown",
   "id": "1d3d8c70",
   "metadata": {},
   "source": []
  }
 ],
 "metadata": {
  "language_info": {
   "name": "python"
  }
 },
 "nbformat": 4,
 "nbformat_minor": 5
}
